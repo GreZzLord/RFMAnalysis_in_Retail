{
  "nbformat": 4,
  "nbformat_minor": 0,
  "metadata": {
    "colab": {
      "name": "googleScraping.ipynb",
      "provenance": [],
      "collapsed_sections": [],
      "authorship_tag": "ABX9TyNidyQbGYscws7KuMrq+5mj",
      "include_colab_link": true
    },
    "kernelspec": {
      "name": "python3",
      "display_name": "Python 3"
    }
  },
  "cells": [
    {
      "cell_type": "markdown",
      "metadata": {
        "id": "view-in-github",
        "colab_type": "text"
      },
      "source": [
        "<a href=\"https://colab.research.google.com/github/naenumtou/dataScienceLab/blob/main/googleScraping.ipynb\" target=\"_parent\"><img src=\"https://colab.research.google.com/assets/colab-badge.svg\" alt=\"Open In Colab\"/></a>"
      ]
    },
    {
      "cell_type": "code",
      "metadata": {
        "colab": {
          "base_uri": "https://localhost:8080/"
        },
        "id": "6HmEd5WIv3hc",
        "outputId": "d9e1171f-f931-4248-ae33-d79ef4f674ec"
      },
      "source": [
        "# Install libraries\n",
        "!pip install selenium\n",
        "!apt-get update #To update ubuntu to correctly run apt install\n",
        "!apt install chromium-chromedriver\n",
        "!cp /usr/lib/chromium-browser/chromedriver /usr/bin"
      ],
      "execution_count": null,
      "outputs": [
        {
          "output_type": "stream",
          "text": [
            "Requirement already satisfied: selenium in /usr/local/lib/python3.6/dist-packages (3.141.0)\n",
            "Requirement already satisfied: urllib3 in /usr/local/lib/python3.6/dist-packages (from selenium) (1.24.3)\n",
            "Ign:1 https://developer.download.nvidia.com/compute/cuda/repos/ubuntu1804/x86_64  InRelease\n",
            "Ign:2 https://developer.download.nvidia.com/compute/machine-learning/repos/ubuntu1804/x86_64  InRelease\n",
            "Hit:3 https://cloud.r-project.org/bin/linux/ubuntu bionic-cran40/ InRelease\n",
            "Hit:4 https://developer.download.nvidia.com/compute/cuda/repos/ubuntu1804/x86_64  Release\n",
            "Hit:5 https://developer.download.nvidia.com/compute/machine-learning/repos/ubuntu1804/x86_64  Release\n",
            "Hit:6 http://ppa.launchpad.net/c2d4u.team/c2d4u4.0+/ubuntu bionic InRelease\n",
            "Hit:7 http://archive.ubuntu.com/ubuntu bionic InRelease\n",
            "Get:8 http://security.ubuntu.com/ubuntu bionic-security InRelease [88.7 kB]\n",
            "Get:9 http://archive.ubuntu.com/ubuntu bionic-updates InRelease [88.7 kB]\n",
            "Hit:11 http://ppa.launchpad.net/cran/libgit2/ubuntu bionic InRelease\n",
            "Hit:13 http://ppa.launchpad.net/graphics-drivers/ppa/ubuntu bionic InRelease\n",
            "Get:14 http://archive.ubuntu.com/ubuntu bionic-backports InRelease [74.6 kB]\n",
            "Get:15 http://security.ubuntu.com/ubuntu bionic-security/main amd64 Packages [1,917 kB]\n",
            "Get:16 http://security.ubuntu.com/ubuntu bionic-security/universe amd64 Packages [1,385 kB]\n",
            "Get:17 http://archive.ubuntu.com/ubuntu bionic-updates/main amd64 Packages [2,350 kB]\n",
            "Get:18 http://security.ubuntu.com/ubuntu bionic-security/restricted amd64 Packages [293 kB]\n",
            "Fetched 6,197 kB in 3s (2,384 kB/s)\n",
            "Reading package lists... Done\n",
            "Reading package lists... Done\n",
            "Building dependency tree       \n",
            "Reading state information... Done\n",
            "chromium-chromedriver is already the newest version (87.0.4280.66-0ubuntu0.18.04.1).\n",
            "0 upgraded, 0 newly installed, 0 to remove and 51 not upgraded.\n",
            "cp: '/usr/lib/chromium-browser/chromedriver' and '/usr/bin/chromedriver' are the same file\n"
          ],
          "name": "stdout"
        }
      ]
    },
    {
      "cell_type": "code",
      "metadata": {
        "id": "5snkvAgkwC5A"
      },
      "source": [
        "# Import libraries\n",
        "import sys\n",
        "import time\n",
        "import pandas as pd\n",
        "\n",
        "from selenium import webdriver\n",
        "from bs4 import BeautifulSoup"
      ],
      "execution_count": null,
      "outputs": []
    },
    {
      "cell_type": "code",
      "metadata": {
        "id": "YCM7ZiUexiFD"
      },
      "source": [
        "# Set-up search environment\n",
        "sys.path.insert(0,'/usr/lib/chromium-browser/chromedriver') #Create path\n",
        "chromeOptions = webdriver.ChromeOptions()\n",
        "chromeOptions.add_argument('--headless')\n",
        "chromeOptions.add_argument('--no-sandbox')\n",
        "chromeOptions.add_argument('--disable-dev-shm-usage')\n",
        "driver = webdriver.Chrome('chromedriver', options = chromeOptions) #Using Chrome\n",
        "\n",
        "# Set up search keywords\n",
        "searchWords = 'มะตูม โควิด'\n",
        "searchWords = searchWords.replace(' ', '+') #Replace with '+'\n",
        "searchPages = 0\n",
        "\n",
        "# Request search\n",
        "results = []\n",
        "reSearch = True\n",
        "\n",
        "while reSearch:\n",
        "  searchURL = f'https://google.com/search?q={searchWords}&start={searchPages}'\n",
        "  driver.get(searchURL)\n",
        "  time.sleep(3)\n",
        "  soup = BeautifulSoup(driver.page_source, 'lxml')\n",
        "    \n",
        "  for result in soup.find_all('div', attrs = {'class': 'g'}):\n",
        "    headers = result.find_all('h3')\n",
        "    contents = result.find_all('div', attrs = {'class': 'IsZvec'})\n",
        "\n",
        "    for header, content in zip(headers, contents):\n",
        "      results.append([header.text, content.text])\n",
        "      \n",
        "  searchPages = searchPages + 10\n",
        "  if searchPages > 50:\n",
        "    reSearch = False"
      ],
      "execution_count": null,
      "outputs": []
    },
    {
      "cell_type": "code",
      "metadata": {
        "id": "Ah95TL5a9dXT"
      },
      "source": [
        "# Create dataframe table\n",
        "resultsTable = pd.DataFrame(results, columns = ['Header', 'Content'])\n",
        "resultsTable.to_csv('Resuls.csv', index = False)"
      ],
      "execution_count": null,
      "outputs": []
    }
  ]
}