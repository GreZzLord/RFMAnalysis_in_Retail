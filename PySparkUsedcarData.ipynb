{
  "nbformat": 4,
  "nbformat_minor": 0,
  "metadata": {
    "colab": {
      "name": "PySparkUsedcarData.ipynb",
      "provenance": [],
      "collapsed_sections": [],
      "mount_file_id": "1S4WQppkD2zTu6mGTI_kHwtATIqL20_Wf",
      "authorship_tag": "ABX9TyMg3vkb4WaZ5W8thdorU05B",
      "include_colab_link": true
    },
    "kernelspec": {
      "name": "python3",
      "display_name": "Python 3"
    },
    "language_info": {
      "name": "python"
    }
  },
  "cells": [
    {
      "cell_type": "markdown",
      "metadata": {
        "id": "view-in-github",
        "colab_type": "text"
      },
      "source": [
        "<a href=\"https://colab.research.google.com/github/naenumtou/dataScienceLab/blob/main/PySparkUsedcarData.ipynb\" target=\"_parent\"><img src=\"https://colab.research.google.com/assets/colab-badge.svg\" alt=\"Open In Colab\"/></a>"
      ]
    },
    {
      "cell_type": "code",
      "source": [
        "# Set auto reload\n",
        "%reload_ext autoreload\n",
        "%autoreload 2"
      ],
      "metadata": {
        "id": "lETwAShPmNLa"
      },
      "execution_count": 1,
      "outputs": []
    },
    {
      "cell_type": "code",
      "execution_count": 2,
      "metadata": {
        "colab": {
          "base_uri": "https://localhost:8080/"
        },
        "id": "iW7QOSt7mMhX",
        "outputId": "1700434a-3b27-457b-b6a0-5777c734f315"
      },
      "outputs": [
        {
          "output_type": "stream",
          "name": "stdout",
          "text": [
            "/content/drive/My Drive/Colab Notebooks/PySpark\n"
          ]
        }
      ],
      "source": [
        "# Change working directory\n",
        "%cd /content/drive/My Drive/Colab Notebooks/PySpark"
      ]
    },
    {
      "cell_type": "markdown",
      "source": [
        "### Setting up PySpark in Colab (Old method)\n",
        "Nowadays, the PySpark can be used in Google Colab without any setting up by directly using `pip install pyspark`. However, the main disadvantage is that it requires to re-install on every re-connection. By using Google Drive and setting up Java Virtual Machine (JVM) can overcome this limitation.\n",
        "\n",
        "Assumed, the Google Drive is mounted. The first task is to download Java.\n",
        "```\n",
        "!apt-get install openjdk-8-jdk-headless -qq > /dev/nullc\n",
        "```\n",
        "\n",
        "Next, it will be installed Apache Spark 3.2.1 (Latest version) with Hadoop 3.2 from [here](https://spark.apache.org/downloads.html).\n",
        "```\n",
        "!wget -q https://www.apache.org/dyn/closer.lua/spark/spark-3.2.1/spark-3.2.1-bin-hadoop3.2.tgz\n",
        "```\n",
        "\n",
        "Now, unzip it into the Google Drive folder.\n",
        "```\n",
        "!tar xf spark-3.2.1-bin-hadoop3.2.tgz\n",
        "```\n",
        "\n",
        "One last task that needed to be installed the `findspark` library. It will help to locate Spark on the system and import it as a regular library.\n",
        "```\n",
        "!pip install findspark\n",
        "```\n",
        "\n",
        "Now, it is about time to set the environment path. This will enable us to run PySpark in the Google Colab environment.\n",
        "```python\n",
        "import os\n",
        "os.environ['JAVA_HOME'] = '/usr/lib/jvm/java-8-openjdk-amd64'\n",
        "os.environ['SPARK_HOME'] = '/content/spark-3.2.1-bin-hadoop3.2'\n",
        "```\n",
        "\n",
        "After done all steps above, it can be located Spark in the Google Drive by running:\n",
        "```python\n",
        "import findspark\n",
        "findspark.init()\n",
        "findspark.find()\n",
        "```\n",
        "\n",
        "---\n",
        "### Note\n",
        "For this Colab notebook, it **does not** setting up JVM but it will directly use `pip install pyspark` instead."
      ],
      "metadata": {
        "id": "Ws5NznrygIHu"
      }
    },
    {
      "cell_type": "code",
      "source": [
        "# Install libraries\n",
        "!pip install pyspark"
      ],
      "metadata": {
        "colab": {
          "base_uri": "https://localhost:8080/"
        },
        "id": "HC9rpaq9nOz5",
        "outputId": "ad71451f-c87a-46c0-dfd7-5f7e4d258f69"
      },
      "execution_count": 3,
      "outputs": [
        {
          "output_type": "stream",
          "name": "stdout",
          "text": [
            "Collecting pyspark\n",
            "  Downloading pyspark-3.2.1.tar.gz (281.4 MB)\n",
            "\u001b[K     |████████████████████████████████| 281.4 MB 34 kB/s \n",
            "\u001b[?25hCollecting py4j==0.10.9.3\n",
            "  Downloading py4j-0.10.9.3-py2.py3-none-any.whl (198 kB)\n",
            "\u001b[K     |████████████████████████████████| 198 kB 41.0 MB/s \n",
            "\u001b[?25hBuilding wheels for collected packages: pyspark\n",
            "  Building wheel for pyspark (setup.py) ... \u001b[?25l\u001b[?25hdone\n",
            "  Created wheel for pyspark: filename=pyspark-3.2.1-py2.py3-none-any.whl size=281853642 sha256=d741ab1f2dda20c076099f4d40efd79718d8f6af27c8df60d0ee6341d2581c70\n",
            "  Stored in directory: /root/.cache/pip/wheels/9f/f5/07/7cd8017084dce4e93e84e92efd1e1d5334db05f2e83bcef74f\n",
            "Successfully built pyspark\n",
            "Installing collected packages: py4j, pyspark\n",
            "Successfully installed py4j-0.10.9.3 pyspark-3.2.1\n"
          ]
        }
      ]
    },
    {
      "cell_type": "code",
      "source": [
        "# Import libraries\n",
        "from pyspark.sql import SparkSession\n",
        "from pyspark.sql.types import StructType, StructField, DateType, StringType, IntegerType, FloatType\n",
        "from pyspark.sql.functions import trim, regexp_replace, when, count, col, regexp_extract, isnull\n",
        "\n",
        "# Config\n",
        "%config InlineBackend.figure_format = 'retina' #Retina display"
      ],
      "metadata": {
        "id": "jBAK0ya6wzEA"
      },
      "execution_count": 4,
      "outputs": []
    },
    {
      "cell_type": "code",
      "source": [
        "# Start spark session\n",
        "spark = SparkSession.builder\\\n",
        "        .master('local')\\\n",
        "        .appName('Colab')\\\n",
        "        .getOrCreate()\n",
        "\n",
        "# Test spark\n",
        "spark     "
      ],
      "metadata": {
        "colab": {
          "base_uri": "https://localhost:8080/",
          "height": 219
        },
        "id": "wzOwcfmcnveC",
        "outputId": "fa8c6884-db0b-49bd-cb98-6aab715c7a45"
      },
      "execution_count": 5,
      "outputs": [
        {
          "output_type": "execute_result",
          "data": {
            "text/html": [
              "\n",
              "            <div>\n",
              "                <p><b>SparkSession - in-memory</b></p>\n",
              "                \n",
              "        <div>\n",
              "            <p><b>SparkContext</b></p>\n",
              "\n",
              "            <p><a href=\"http://060b8603aa2e:4040\">Spark UI</a></p>\n",
              "\n",
              "            <dl>\n",
              "              <dt>Version</dt>\n",
              "                <dd><code>v3.2.1</code></dd>\n",
              "              <dt>Master</dt>\n",
              "                <dd><code>local</code></dd>\n",
              "              <dt>AppName</dt>\n",
              "                <dd><code>Colab</code></dd>\n",
              "            </dl>\n",
              "        </div>\n",
              "        \n",
              "            </div>\n",
              "        "
            ],
            "text/plain": [
              "<pyspark.sql.session.SparkSession at 0x7f0977577650>"
            ]
          },
          "metadata": {},
          "execution_count": 5
        }
      ]
    },
    {
      "cell_type": "code",
      "source": [
        "# Load dataset\n",
        "df = spark.read.csv(\n",
        "    'carData.csv',\n",
        "    header = True,\n",
        "    inferSchema = True\n",
        ")\n",
        "\n",
        "# Show table\n",
        "df.show(5)"
      ],
      "metadata": {
        "colab": {
          "base_uri": "https://localhost:8080/"
        },
        "id": "swHxEmqhop7t",
        "outputId": "82f9e709-53da-4718-99d9-cc11fbab6e55"
      },
      "execution_count": 6,
      "outputs": [
        {
          "output_type": "stream",
          "name": "stdout",
          "text": [
            "+----------+------------+--------+-----------+-----------+----------------+------+-------+---------+---------+---------+-----------+------------+----------+--------------------+---------+----+------+-------+\n",
            "|     month|contractDate|usedType|downPercent|sellingDate|modelDescription| brand|  color|buildyear|condition|       km|newCarPrice|sellingPrice|modelGroup|               wheel|     gear|door|engine|   fuel|\n",
            "+----------+------------+--------+-----------+-----------+----------------+------+-------+---------+---------+---------+-----------+------------+----------+--------------------+---------+----+------+-------+\n",
            "|2017-09-01|  2013-03-04|     New|     10.00%| 2017-09-01|           Yaris|Toyota|Missing|     2013|    Fair | 101,814 |   734,000 |     361,660|     Yaris|Front Wheel Drive...|Automatic|   5|   1.5|Benzene|\n",
            "|2017-09-01|  2014-07-21|    Used|      2.89%| 2017-09-01|Hilux Vigo 4x2 C|Toyota|Missing|     2010|    Fair | 260,327 |   669,000 |     251,450|     C-Cab|Rear Wheel Drive ...|   Manual|   2|   2.5| Diesel|\n",
            "|2017-09-01|  2016-04-29|     New|      0.14%| 2017-09-01|Hilux Revo 4x2 B|Toyota|Missing|     2016|    Fair |  12,312 |   562,000 |     383,060|     B-Cab|Rear Wheel Drive ...|   Manual|   2|   2.4| Diesel|\n",
            "|2017-09-01|  2014-05-12|     New|     25.11%| 2017-09-01|Hilux Vigo 4x2 D|Toyota|Missing|     2013|    Fair |  70,534 |   740,000 |     410,880|     D-Cab|Rear Wheel Drive ...|   Manual|   4|   2.5| Diesel|\n",
            "|2017-09-01|  2016-06-03|     New|     20.13%| 2017-09-01|Hilux Revo 4x2 B|Toyota|Missing|     2016|    Fair |  53,920 |   635,000 |     357,380|     B-Cab|Rear Wheel Drive ...|   Manual|   2|   2.8| Diesel|\n",
            "+----------+------------+--------+-----------+-----------+----------------+------+-------+---------+---------+---------+-----------+------------+----------+--------------------+---------+----+------+-------+\n",
            "only showing top 5 rows\n",
            "\n"
          ]
        }
      ]
    },
    {
      "cell_type": "code",
      "source": [
        "# Show schema\n",
        "df.printSchema()"
      ],
      "metadata": {
        "colab": {
          "base_uri": "https://localhost:8080/"
        },
        "id": "CYYj_gMRpIrS",
        "outputId": "2cd814ae-3651-40fa-dc4d-19a97498f0e2"
      },
      "execution_count": 7,
      "outputs": [
        {
          "output_type": "stream",
          "name": "stdout",
          "text": [
            "root\n",
            " |-- month: string (nullable = true)\n",
            " |-- contractDate: string (nullable = true)\n",
            " |-- usedType: string (nullable = true)\n",
            " |-- downPercent: string (nullable = true)\n",
            " |-- sellingDate: string (nullable = true)\n",
            " |-- modelDescription: string (nullable = true)\n",
            " |-- brand: string (nullable = true)\n",
            " |-- color: string (nullable = true)\n",
            " |-- buildyear: integer (nullable = true)\n",
            " |-- condition: string (nullable = true)\n",
            " |-- km: string (nullable = true)\n",
            " |-- newCarPrice: string (nullable = true)\n",
            " |-- sellingPrice: string (nullable = true)\n",
            " |-- modelGroup: string (nullable = true)\n",
            " |-- wheel: string (nullable = true)\n",
            " |-- gear: string (nullable = true)\n",
            " |-- door: integer (nullable = true)\n",
            " |-- engine: double (nullable = true)\n",
            " |-- fuel: string (nullable = true)\n",
            "\n"
          ]
        }
      ]
    },
    {
      "cell_type": "code",
      "source": [
        "# Custom schema\n",
        "schema = StructType(\n",
        "    [\n",
        "     StructField('month', StringType(), True), #Keep schema as string for now\n",
        "     StructField('contractDate', StringType(), True), #Keep schema as string for now\n",
        "     StructField('usedType', StringType(), True),\n",
        "     StructField('downPercent', StringType(), True),\n",
        "     StructField('sellingDate', StringType(), True), #Keep schema as string for now\n",
        "     StructField('modelDescription', StringType(), True),\n",
        "     StructField('brand', StringType(), True),\n",
        "     StructField('color', StringType(), True),\n",
        "     StructField('buildyear', IntegerType(), True),\n",
        "     StructField('condition', StringType(), True),\n",
        "     StructField('km', StringType(), True),\n",
        "     StructField('newCarPrice', StringType(), True),\n",
        "     StructField('sellingPrice', StringType(), True),\n",
        "     StructField('modelGroup', StringType(), True),\n",
        "     StructField('wheel', StringType(), True),\n",
        "     StructField('gear', StringType(), True),\n",
        "     StructField('door', StringType(), True),\n",
        "     StructField('engine', StringType(), True),\n",
        "     StructField('fuel', StringType(), True)\n",
        "    ]\n",
        ")\n",
        "\n",
        "# Read with custom schema\n",
        "df = spark.read.csv(\n",
        "    'carData.csv',\n",
        "    header = True,\n",
        "    schema = schema\n",
        ")\n",
        "\n",
        "# Show schema\n",
        "df.printSchema()"
      ],
      "metadata": {
        "colab": {
          "base_uri": "https://localhost:8080/"
        },
        "id": "LGTGJaNLkoTu",
        "outputId": "19e66626-b37e-4cec-e7aa-3c886f275617"
      },
      "execution_count": 8,
      "outputs": [
        {
          "output_type": "stream",
          "name": "stdout",
          "text": [
            "root\n",
            " |-- month: string (nullable = true)\n",
            " |-- contractDate: string (nullable = true)\n",
            " |-- usedType: string (nullable = true)\n",
            " |-- downPercent: string (nullable = true)\n",
            " |-- sellingDate: string (nullable = true)\n",
            " |-- modelDescription: string (nullable = true)\n",
            " |-- brand: string (nullable = true)\n",
            " |-- color: string (nullable = true)\n",
            " |-- buildyear: integer (nullable = true)\n",
            " |-- condition: string (nullable = true)\n",
            " |-- km: string (nullable = true)\n",
            " |-- newCarPrice: string (nullable = true)\n",
            " |-- sellingPrice: string (nullable = true)\n",
            " |-- modelGroup: string (nullable = true)\n",
            " |-- wheel: string (nullable = true)\n",
            " |-- gear: string (nullable = true)\n",
            " |-- door: string (nullable = true)\n",
            " |-- engine: string (nullable = true)\n",
            " |-- fuel: string (nullable = true)\n",
            "\n"
          ]
        }
      ]
    },
    {
      "cell_type": "code",
      "source": [
        "# Show table\n",
        "df.show(5)"
      ],
      "metadata": {
        "colab": {
          "base_uri": "https://localhost:8080/"
        },
        "id": "gAGEUA8cmjxC",
        "outputId": "0ca69998-1a8e-42d5-c2c0-83e8f31f517a"
      },
      "execution_count": 9,
      "outputs": [
        {
          "output_type": "stream",
          "name": "stdout",
          "text": [
            "+----------+------------+--------+-----------+-----------+----------------+------+-------+---------+---------+---------+-----------+------------+----------+--------------------+---------+----+------+-------+\n",
            "|     month|contractDate|usedType|downPercent|sellingDate|modelDescription| brand|  color|buildyear|condition|       km|newCarPrice|sellingPrice|modelGroup|               wheel|     gear|door|engine|   fuel|\n",
            "+----------+------------+--------+-----------+-----------+----------------+------+-------+---------+---------+---------+-----------+------------+----------+--------------------+---------+----+------+-------+\n",
            "|2017-09-01|  2013-03-04|     New|     10.00%| 2017-09-01|           Yaris|Toyota|Missing|     2013|    Fair | 101,814 |   734,000 |     361,660|     Yaris|Front Wheel Drive...|Automatic|   5|   1.5|Benzene|\n",
            "|2017-09-01|  2014-07-21|    Used|      2.89%| 2017-09-01|Hilux Vigo 4x2 C|Toyota|Missing|     2010|    Fair | 260,327 |   669,000 |     251,450|     C-Cab|Rear Wheel Drive ...|   Manual|   2|   2.5| Diesel|\n",
            "|2017-09-01|  2016-04-29|     New|      0.14%| 2017-09-01|Hilux Revo 4x2 B|Toyota|Missing|     2016|    Fair |  12,312 |   562,000 |     383,060|     B-Cab|Rear Wheel Drive ...|   Manual|   2|   2.4| Diesel|\n",
            "|2017-09-01|  2014-05-12|     New|     25.11%| 2017-09-01|Hilux Vigo 4x2 D|Toyota|Missing|     2013|    Fair |  70,534 |   740,000 |     410,880|     D-Cab|Rear Wheel Drive ...|   Manual|   4|   2.5| Diesel|\n",
            "|2017-09-01|  2016-06-03|     New|     20.13%| 2017-09-01|Hilux Revo 4x2 B|Toyota|Missing|     2016|    Fair |  53,920 |   635,000 |     357,380|     B-Cab|Rear Wheel Drive ...|   Manual|   2|   2.8| Diesel|\n",
            "+----------+------------+--------+-----------+-----------+----------------+------+-------+---------+---------+---------+-----------+------------+----------+--------------------+---------+----+------+-------+\n",
            "only showing top 5 rows\n",
            "\n"
          ]
        }
      ]
    },
    {
      "cell_type": "code",
      "source": [
        "# Check value counts in 'usedType'\n",
        "df.groupBy('usedType').count().orderBy('count').show()"
      ],
      "metadata": {
        "colab": {
          "base_uri": "https://localhost:8080/"
        },
        "id": "iMNo8I292Ngt",
        "outputId": "1ab12797-aa97-4453-b6cd-b3d9238a0996"
      },
      "execution_count": 10,
      "outputs": [
        {
          "output_type": "stream",
          "name": "stdout",
          "text": [
            "+--------+-----+\n",
            "|usedType|count|\n",
            "+--------+-----+\n",
            "|    Used| 2440|\n",
            "|     New|23795|\n",
            "+--------+-----+\n",
            "\n"
          ]
        }
      ]
    },
    {
      "cell_type": "code",
      "source": [
        "# Replace '%' in 'downPercent' prior converting schema\n",
        "df = df.withColumn(\n",
        "    'downPercent',\n",
        "    regexp_replace('downPercent', '%', '')\n",
        ")\n",
        "\n",
        "# Convert schema to 'FloatType'\n",
        "df = df.withColumn(\n",
        "    'downPercent',\n",
        "    df['downPercent'].cast(FloatType()) / 100 #To percentage\n",
        ")\n",
        "\n",
        "# Show table\n",
        "df.show(5)"
      ],
      "metadata": {
        "colab": {
          "base_uri": "https://localhost:8080/"
        },
        "id": "172agYxXnIG9",
        "outputId": "6eb9041d-15ab-4a43-e73d-132b8da0270d"
      },
      "execution_count": 11,
      "outputs": [
        {
          "output_type": "stream",
          "name": "stdout",
          "text": [
            "+----------+------------+--------+--------------------+-----------+----------------+------+-------+---------+---------+---------+-----------+------------+----------+--------------------+---------+----+------+-------+\n",
            "|     month|contractDate|usedType|         downPercent|sellingDate|modelDescription| brand|  color|buildyear|condition|       km|newCarPrice|sellingPrice|modelGroup|               wheel|     gear|door|engine|   fuel|\n",
            "+----------+------------+--------+--------------------+-----------+----------------+------+-------+---------+---------+---------+-----------+------------+----------+--------------------+---------+----+------+-------+\n",
            "|2017-09-01|  2013-03-04|     New|                 0.1| 2017-09-01|           Yaris|Toyota|Missing|     2013|    Fair | 101,814 |   734,000 |     361,660|     Yaris|Front Wheel Drive...|Automatic|   5|   1.5|Benzene|\n",
            "|2017-09-01|  2014-07-21|    Used|0.028900001049041748| 2017-09-01|Hilux Vigo 4x2 C|Toyota|Missing|     2010|    Fair | 260,327 |   669,000 |     251,450|     C-Cab|Rear Wheel Drive ...|   Manual|   2|   2.5| Diesel|\n",
            "|2017-09-01|  2016-04-29|     New|0.001400000005960...| 2017-09-01|Hilux Revo 4x2 B|Toyota|Missing|     2016|    Fair |  12,312 |   562,000 |     383,060|     B-Cab|Rear Wheel Drive ...|   Manual|   2|   2.4| Diesel|\n",
            "|2017-09-01|  2014-05-12|     New|  0.2511000061035156| 2017-09-01|Hilux Vigo 4x2 D|Toyota|Missing|     2013|    Fair |  70,534 |   740,000 |     410,880|     D-Cab|Rear Wheel Drive ...|   Manual|   4|   2.5| Diesel|\n",
            "|2017-09-01|  2016-06-03|     New|   0.201299991607666| 2017-09-01|Hilux Revo 4x2 B|Toyota|Missing|     2016|    Fair |  53,920 |   635,000 |     357,380|     B-Cab|Rear Wheel Drive ...|   Manual|   2|   2.8| Diesel|\n",
            "+----------+------------+--------+--------------------+-----------+----------------+------+-------+---------+---------+---------+-----------+------------+----------+--------------------+---------+----+------+-------+\n",
            "only showing top 5 rows\n",
            "\n"
          ]
        }
      ]
    },
    {
      "cell_type": "code",
      "source": [
        "# Check value counts in 'brand'\n",
        "df.groupBy('brand').count().orderBy('count').show()"
      ],
      "metadata": {
        "colab": {
          "base_uri": "https://localhost:8080/"
        },
        "id": "UCpUX6kv3g20",
        "outputId": "89d8cd63-36de-405a-cf98-68c99ac57e02"
      },
      "execution_count": 12,
      "outputs": [
        {
          "output_type": "stream",
          "name": "stdout",
          "text": [
            "+-----------+-----+\n",
            "|      brand|count|\n",
            "+-----------+-----+\n",
            "|      Lexus|    5|\n",
            "|Non-Toyota |   75|\n",
            "|     Toyota|26155|\n",
            "+-----------+-----+\n",
            "\n"
          ]
        }
      ]
    },
    {
      "cell_type": "code",
      "source": [
        "# Check value counts in 'color'\n",
        "df.groupBy('color').count().orderBy('count').show()"
      ],
      "metadata": {
        "colab": {
          "base_uri": "https://localhost:8080/"
        },
        "id": "ybTRllON3lCe",
        "outputId": "60233e66-8404-46b0-a1d2-f404869e1a88"
      },
      "execution_count": 13,
      "outputs": [
        {
          "output_type": "stream",
          "name": "stdout",
          "text": [
            "+-----------+-----+\n",
            "|      color|count|\n",
            "+-----------+-----+\n",
            "|       Gold|    1|\n",
            "| white-grey|    2|\n",
            "|Green-black|    3|\n",
            "| Grey-black|    3|\n",
            "|     Silver|    4|\n",
            "|  Red-black|    5|\n",
            "| Blue-black|    6|\n",
            "|     Yellow|   12|\n",
            "|   Sky blue|   15|\n",
            "|white-black|   37|\n",
            "|       Blue|   63|\n",
            "|      Green|   63|\n",
            "|      Brown|   92|\n",
            "|     Orange|  102|\n",
            "|        Red|  330|\n",
            "|      Black| 2343|\n",
            "|       Grey| 4316|\n",
            "|      white| 5910|\n",
            "|    Missing|12928|\n",
            "+-----------+-----+\n",
            "\n"
          ]
        }
      ]
    },
    {
      "cell_type": "code",
      "source": [
        "# Replace 'Missing' with Null in 'color'\n",
        "df = df.withColumn(\n",
        "    'color',\n",
        "    when(\n",
        "        col('color') == 'Missing', None\n",
        "    ).otherwise(col('color'))\n",
        ")\n",
        "\n",
        "# Show table\n",
        "df.show(5)"
      ],
      "metadata": {
        "colab": {
          "base_uri": "https://localhost:8080/"
        },
        "id": "743hZmcZ2ia5",
        "outputId": "08aea769-1da5-4100-af92-0e62bde1a08b"
      },
      "execution_count": 14,
      "outputs": [
        {
          "output_type": "stream",
          "name": "stdout",
          "text": [
            "+----------+------------+--------+--------------------+-----------+----------------+------+-----+---------+---------+---------+-----------+------------+----------+--------------------+---------+----+------+-------+\n",
            "|     month|contractDate|usedType|         downPercent|sellingDate|modelDescription| brand|color|buildyear|condition|       km|newCarPrice|sellingPrice|modelGroup|               wheel|     gear|door|engine|   fuel|\n",
            "+----------+------------+--------+--------------------+-----------+----------------+------+-----+---------+---------+---------+-----------+------------+----------+--------------------+---------+----+------+-------+\n",
            "|2017-09-01|  2013-03-04|     New|                 0.1| 2017-09-01|           Yaris|Toyota| null|     2013|    Fair | 101,814 |   734,000 |     361,660|     Yaris|Front Wheel Drive...|Automatic|   5|   1.5|Benzene|\n",
            "|2017-09-01|  2014-07-21|    Used|0.028900001049041748| 2017-09-01|Hilux Vigo 4x2 C|Toyota| null|     2010|    Fair | 260,327 |   669,000 |     251,450|     C-Cab|Rear Wheel Drive ...|   Manual|   2|   2.5| Diesel|\n",
            "|2017-09-01|  2016-04-29|     New|0.001400000005960...| 2017-09-01|Hilux Revo 4x2 B|Toyota| null|     2016|    Fair |  12,312 |   562,000 |     383,060|     B-Cab|Rear Wheel Drive ...|   Manual|   2|   2.4| Diesel|\n",
            "|2017-09-01|  2014-05-12|     New|  0.2511000061035156| 2017-09-01|Hilux Vigo 4x2 D|Toyota| null|     2013|    Fair |  70,534 |   740,000 |     410,880|     D-Cab|Rear Wheel Drive ...|   Manual|   4|   2.5| Diesel|\n",
            "|2017-09-01|  2016-06-03|     New|   0.201299991607666| 2017-09-01|Hilux Revo 4x2 B|Toyota| null|     2016|    Fair |  53,920 |   635,000 |     357,380|     B-Cab|Rear Wheel Drive ...|   Manual|   2|   2.8| Diesel|\n",
            "+----------+------------+--------+--------------------+-----------+----------------+------+-----+---------+---------+---------+-----------+------------+----------+--------------------+---------+----+------+-------+\n",
            "only showing top 5 rows\n",
            "\n"
          ]
        }
      ]
    },
    {
      "cell_type": "code",
      "source": [
        "# Grouping 'color'\n",
        "df = df.withColumn(\n",
        "    'groupColor',\n",
        "    when(\n",
        "        col('color').isin(['white-grey', 'Silver']), 'Grey'\n",
        "    )\\\n",
        "    .when(\n",
        "        col('color').isin(['Green-black', 'Grey-black', 'Red-black', 'Blue-black']), 'Black'\n",
        "    )\\\n",
        "    .when(\n",
        "        col('color').isin(['Sky blue']), 'Blue'\n",
        "    )\\\n",
        "    .when(\n",
        "        col('color').isin(['white-black']), 'white'\n",
        "    )\\\n",
        "    .when(\n",
        "        col('color').isin(['Yellow', 'Gold']), 'Orange'\n",
        "    ).otherwise(col('color'))\n",
        ")\n",
        "\n",
        "# Fix typo 'grey' to 'gray'\n",
        "df = df.withColumn(\n",
        "    'groupColor',\n",
        "    when(\n",
        "        col('groupColor') == 'Grey', 'Gray'\n",
        "    ).otherwise(col('groupColor'))\n",
        ")\n",
        "\n",
        "# Result\n",
        "df.groupBy('groupColor').count().orderBy('count').show()"
      ],
      "metadata": {
        "colab": {
          "base_uri": "https://localhost:8080/"
        },
        "id": "mlGoytcq4Cpz",
        "outputId": "db5e0a52-2fb7-41a1-8bfa-cdc4a12f67d8"
      },
      "execution_count": 15,
      "outputs": [
        {
          "output_type": "stream",
          "name": "stdout",
          "text": [
            "+----------+-----+\n",
            "|groupColor|count|\n",
            "+----------+-----+\n",
            "|     Green|   63|\n",
            "|      Blue|   78|\n",
            "|     Brown|   92|\n",
            "|    Orange|  115|\n",
            "|       Red|  330|\n",
            "|     Black| 2360|\n",
            "|      Gray| 4322|\n",
            "|     white| 5947|\n",
            "|      null|12928|\n",
            "+----------+-----+\n",
            "\n"
          ]
        }
      ]
    },
    {
      "cell_type": "code",
      "source": [
        "# Check value counts in 'buildyear'\n",
        "df.groupBy('buildyear').count().orderBy('count').show()"
      ],
      "metadata": {
        "colab": {
          "base_uri": "https://localhost:8080/"
        },
        "id": "6SJPsBCc3pWt",
        "outputId": "916b1fbc-51cc-42f8-c8ff-54157bc9cf11"
      },
      "execution_count": 16,
      "outputs": [
        {
          "output_type": "stream",
          "name": "stdout",
          "text": [
            "+---------+-----+\n",
            "|buildyear|count|\n",
            "+---------+-----+\n",
            "|     2001|    1|\n",
            "|     2002|    1|\n",
            "|     2003|    2|\n",
            "|     2020|    2|\n",
            "|     2004|    4|\n",
            "|     2005|   21|\n",
            "|     2006|   45|\n",
            "|     2007|   53|\n",
            "|     2008|   96|\n",
            "|     2009|  136|\n",
            "|     2010|  266|\n",
            "|     2011|  287|\n",
            "|     2012|  882|\n",
            "|     2019| 1647|\n",
            "|     2015| 2473|\n",
            "|     2014| 3358|\n",
            "|     2016| 3648|\n",
            "|     2013| 3838|\n",
            "|     2017| 4135|\n",
            "|     2018| 5340|\n",
            "+---------+-----+\n",
            "\n"
          ]
        }
      ]
    },
    {
      "cell_type": "code",
      "source": [
        "# Check value counts in 'condition'\n",
        "df.groupBy('condition').count().orderBy('count').show()"
      ],
      "metadata": {
        "colab": {
          "base_uri": "https://localhost:8080/"
        },
        "id": "PahCN76n8Ejq",
        "outputId": "e09e5827-b47e-4ac5-9b45-a865d438e237"
      },
      "execution_count": 17,
      "outputs": [
        {
          "output_type": "stream",
          "name": "stdout",
          "text": [
            "+---------+-----+\n",
            "|condition|count|\n",
            "+---------+-----+\n",
            "|    Good |   10|\n",
            "| Salvage |  590|\n",
            "|  Average| 3233|\n",
            "|    Poor | 4297|\n",
            "|    Fair |18105|\n",
            "+---------+-----+\n",
            "\n"
          ]
        }
      ]
    },
    {
      "cell_type": "code",
      "source": [
        "# Trim the text (remove space)\n",
        "df = df.withColumn('condition', trim(col('condition'))) #Trim the text (remove space)\n",
        "\n",
        "# Show table\n",
        "df.show(5)"
      ],
      "metadata": {
        "colab": {
          "base_uri": "https://localhost:8080/"
        },
        "id": "gB6sr8CC8LxG",
        "outputId": "076f250b-8fbb-488e-997c-30405e004a53"
      },
      "execution_count": 18,
      "outputs": [
        {
          "output_type": "stream",
          "name": "stdout",
          "text": [
            "+----------+------------+--------+--------------------+-----------+----------------+------+-----+---------+---------+---------+-----------+------------+----------+--------------------+---------+----+------+-------+----------+\n",
            "|     month|contractDate|usedType|         downPercent|sellingDate|modelDescription| brand|color|buildyear|condition|       km|newCarPrice|sellingPrice|modelGroup|               wheel|     gear|door|engine|   fuel|groupColor|\n",
            "+----------+------------+--------+--------------------+-----------+----------------+------+-----+---------+---------+---------+-----------+------------+----------+--------------------+---------+----+------+-------+----------+\n",
            "|2017-09-01|  2013-03-04|     New|                 0.1| 2017-09-01|           Yaris|Toyota| null|     2013|     Fair| 101,814 |   734,000 |     361,660|     Yaris|Front Wheel Drive...|Automatic|   5|   1.5|Benzene|      null|\n",
            "|2017-09-01|  2014-07-21|    Used|0.028900001049041748| 2017-09-01|Hilux Vigo 4x2 C|Toyota| null|     2010|     Fair| 260,327 |   669,000 |     251,450|     C-Cab|Rear Wheel Drive ...|   Manual|   2|   2.5| Diesel|      null|\n",
            "|2017-09-01|  2016-04-29|     New|0.001400000005960...| 2017-09-01|Hilux Revo 4x2 B|Toyota| null|     2016|     Fair|  12,312 |   562,000 |     383,060|     B-Cab|Rear Wheel Drive ...|   Manual|   2|   2.4| Diesel|      null|\n",
            "|2017-09-01|  2014-05-12|     New|  0.2511000061035156| 2017-09-01|Hilux Vigo 4x2 D|Toyota| null|     2013|     Fair|  70,534 |   740,000 |     410,880|     D-Cab|Rear Wheel Drive ...|   Manual|   4|   2.5| Diesel|      null|\n",
            "|2017-09-01|  2016-06-03|     New|   0.201299991607666| 2017-09-01|Hilux Revo 4x2 B|Toyota| null|     2016|     Fair|  53,920 |   635,000 |     357,380|     B-Cab|Rear Wheel Drive ...|   Manual|   2|   2.8| Diesel|      null|\n",
            "+----------+------------+--------+--------------------+-----------+----------------+------+-----+---------+---------+---------+-----------+------------+----------+--------------------+---------+----+------+-------+----------+\n",
            "only showing top 5 rows\n",
            "\n"
          ]
        }
      ]
    },
    {
      "cell_type": "code",
      "source": [
        "# Clean text in 'km' column --> '-', 'ตรวจสอบไม่ได้', 'ตรวจสอบเลขไมล์ไม่ได้'\n",
        "df = df.withColumn('km', trim(col('km'))) #Trim the text (remove space)\n",
        "df = df.withColumn(\n",
        "    'km',\n",
        "    when(\n",
        "        col('km').isin(\n",
        "            ['-', 'ตรวจสอบไม่ได้', 'ตรวจสอบเลขไมล์ไม่ได้']\n",
        "        ), None\n",
        "    ).otherwise(col('km'))\n",
        ") #Replace to missing value\n",
        "\n",
        "# Replace ',' in numeric text\n",
        "df = df.withColumn(\n",
        "      'km',\n",
        "      regexp_replace('km', ',', '')\n",
        ")\n",
        "\n",
        "# Convert schema to 'IntegerType'\n",
        "df = df.withColumn(\n",
        "    'km',\n",
        "    df['km'].cast(IntegerType())\n",
        ") \n",
        "\n",
        "# Replace 0 to missing value\n",
        "df = df.withColumn(\n",
        "    'km',\n",
        "    when(\n",
        "        col('km') == 0, None\n",
        "    ).otherwise(col('km'))\n",
        ")\n",
        "\n",
        "# Show table\n",
        "df.show(5)"
      ],
      "metadata": {
        "colab": {
          "base_uri": "https://localhost:8080/"
        },
        "id": "AO86D81IvWyZ",
        "outputId": "713bcd79-0dfe-4c0b-ef17-7c3a9fe66708"
      },
      "execution_count": 19,
      "outputs": [
        {
          "output_type": "stream",
          "name": "stdout",
          "text": [
            "+----------+------------+--------+--------------------+-----------+----------------+------+-----+---------+---------+------+-----------+------------+----------+--------------------+---------+----+------+-------+----------+\n",
            "|     month|contractDate|usedType|         downPercent|sellingDate|modelDescription| brand|color|buildyear|condition|    km|newCarPrice|sellingPrice|modelGroup|               wheel|     gear|door|engine|   fuel|groupColor|\n",
            "+----------+------------+--------+--------------------+-----------+----------------+------+-----+---------+---------+------+-----------+------------+----------+--------------------+---------+----+------+-------+----------+\n",
            "|2017-09-01|  2013-03-04|     New|                 0.1| 2017-09-01|           Yaris|Toyota| null|     2013|     Fair|101814|   734,000 |     361,660|     Yaris|Front Wheel Drive...|Automatic|   5|   1.5|Benzene|      null|\n",
            "|2017-09-01|  2014-07-21|    Used|0.028900001049041748| 2017-09-01|Hilux Vigo 4x2 C|Toyota| null|     2010|     Fair|260327|   669,000 |     251,450|     C-Cab|Rear Wheel Drive ...|   Manual|   2|   2.5| Diesel|      null|\n",
            "|2017-09-01|  2016-04-29|     New|0.001400000005960...| 2017-09-01|Hilux Revo 4x2 B|Toyota| null|     2016|     Fair| 12312|   562,000 |     383,060|     B-Cab|Rear Wheel Drive ...|   Manual|   2|   2.4| Diesel|      null|\n",
            "|2017-09-01|  2014-05-12|     New|  0.2511000061035156| 2017-09-01|Hilux Vigo 4x2 D|Toyota| null|     2013|     Fair| 70534|   740,000 |     410,880|     D-Cab|Rear Wheel Drive ...|   Manual|   4|   2.5| Diesel|      null|\n",
            "|2017-09-01|  2016-06-03|     New|   0.201299991607666| 2017-09-01|Hilux Revo 4x2 B|Toyota| null|     2016|     Fair| 53920|   635,000 |     357,380|     B-Cab|Rear Wheel Drive ...|   Manual|   2|   2.8| Diesel|      null|\n",
            "+----------+------------+--------+--------------------+-----------+----------------+------+-----+---------+---------+------+-----------+------------+----------+--------------------+---------+----+------+-------+----------+\n",
            "only showing top 5 rows\n",
            "\n"
          ]
        }
      ]
    },
    {
      "cell_type": "code",
      "source": [
        "# Check missing value in 'km'\n",
        "print(f\"Number of missing km: {df.filter(df['km'].isNull()).count()}\")"
      ],
      "metadata": {
        "colab": {
          "base_uri": "https://localhost:8080/"
        },
        "id": "G0YgD45w1eNt",
        "outputId": "e838eedf-cdd7-4d8a-882e-1a12eb047227"
      },
      "execution_count": 20,
      "outputs": [
        {
          "output_type": "stream",
          "name": "stdout",
          "text": [
            "Number of missing km: 733\n"
          ]
        }
      ]
    },
    {
      "cell_type": "code",
      "source": [
        "# Replace ',' in 'newCarPrice' numeric text\n",
        "df = df.withColumn(\n",
        "      'newCarPrice',\n",
        "      regexp_replace('newCarPrice', ',', '')\n",
        ")\n",
        "\n",
        "# Convert schema to 'IntegerType'\n",
        "df = df.withColumn(\n",
        "    'newCarPrice',\n",
        "    df['newCarPrice'].cast(IntegerType())\n",
        ")\n",
        "\n",
        "# Show table\n",
        "df.show(5)"
      ],
      "metadata": {
        "colab": {
          "base_uri": "https://localhost:8080/"
        },
        "id": "C2Q_DrvB9MOw",
        "outputId": "8aaaa471-b7b4-4e49-847c-0c092b4a8298"
      },
      "execution_count": 21,
      "outputs": [
        {
          "output_type": "stream",
          "name": "stdout",
          "text": [
            "+----------+------------+--------+--------------------+-----------+----------------+------+-----+---------+---------+------+-----------+------------+----------+--------------------+---------+----+------+-------+----------+\n",
            "|     month|contractDate|usedType|         downPercent|sellingDate|modelDescription| brand|color|buildyear|condition|    km|newCarPrice|sellingPrice|modelGroup|               wheel|     gear|door|engine|   fuel|groupColor|\n",
            "+----------+------------+--------+--------------------+-----------+----------------+------+-----+---------+---------+------+-----------+------------+----------+--------------------+---------+----+------+-------+----------+\n",
            "|2017-09-01|  2013-03-04|     New|                 0.1| 2017-09-01|           Yaris|Toyota| null|     2013|     Fair|101814|     734000|     361,660|     Yaris|Front Wheel Drive...|Automatic|   5|   1.5|Benzene|      null|\n",
            "|2017-09-01|  2014-07-21|    Used|0.028900001049041748| 2017-09-01|Hilux Vigo 4x2 C|Toyota| null|     2010|     Fair|260327|     669000|     251,450|     C-Cab|Rear Wheel Drive ...|   Manual|   2|   2.5| Diesel|      null|\n",
            "|2017-09-01|  2016-04-29|     New|0.001400000005960...| 2017-09-01|Hilux Revo 4x2 B|Toyota| null|     2016|     Fair| 12312|     562000|     383,060|     B-Cab|Rear Wheel Drive ...|   Manual|   2|   2.4| Diesel|      null|\n",
            "|2017-09-01|  2014-05-12|     New|  0.2511000061035156| 2017-09-01|Hilux Vigo 4x2 D|Toyota| null|     2013|     Fair| 70534|     740000|     410,880|     D-Cab|Rear Wheel Drive ...|   Manual|   4|   2.5| Diesel|      null|\n",
            "|2017-09-01|  2016-06-03|     New|   0.201299991607666| 2017-09-01|Hilux Revo 4x2 B|Toyota| null|     2016|     Fair| 53920|     635000|     357,380|     B-Cab|Rear Wheel Drive ...|   Manual|   2|   2.8| Diesel|      null|\n",
            "+----------+------------+--------+--------------------+-----------+----------------+------+-----+---------+---------+------+-----------+------------+----------+--------------------+---------+----+------+-------+----------+\n",
            "only showing top 5 rows\n",
            "\n"
          ]
        }
      ]
    },
    {
      "cell_type": "code",
      "source": [
        "# Replace ',' in 'sellingPrice' numeric text\n",
        "df = df.withColumn(\n",
        "      'sellingPrice',\n",
        "      regexp_replace('sellingPrice', ',', '')\n",
        ")\n",
        "\n",
        "# Convert schema to 'IntegerType'\n",
        "df = df.withColumn(\n",
        "    'sellingPrice',\n",
        "    df['sellingPrice'].cast(IntegerType())\n",
        ")\n",
        "\n",
        "# Show table\n",
        "df.show(5)"
      ],
      "metadata": {
        "colab": {
          "base_uri": "https://localhost:8080/"
        },
        "id": "VVJAlfn79hrZ",
        "outputId": "51b61b9d-3169-4463-c6f7-ee7a62ac5bf0"
      },
      "execution_count": 22,
      "outputs": [
        {
          "output_type": "stream",
          "name": "stdout",
          "text": [
            "+----------+------------+--------+--------------------+-----------+----------------+------+-----+---------+---------+------+-----------+------------+----------+--------------------+---------+----+------+-------+----------+\n",
            "|     month|contractDate|usedType|         downPercent|sellingDate|modelDescription| brand|color|buildyear|condition|    km|newCarPrice|sellingPrice|modelGroup|               wheel|     gear|door|engine|   fuel|groupColor|\n",
            "+----------+------------+--------+--------------------+-----------+----------------+------+-----+---------+---------+------+-----------+------------+----------+--------------------+---------+----+------+-------+----------+\n",
            "|2017-09-01|  2013-03-04|     New|                 0.1| 2017-09-01|           Yaris|Toyota| null|     2013|     Fair|101814|     734000|      361660|     Yaris|Front Wheel Drive...|Automatic|   5|   1.5|Benzene|      null|\n",
            "|2017-09-01|  2014-07-21|    Used|0.028900001049041748| 2017-09-01|Hilux Vigo 4x2 C|Toyota| null|     2010|     Fair|260327|     669000|      251450|     C-Cab|Rear Wheel Drive ...|   Manual|   2|   2.5| Diesel|      null|\n",
            "|2017-09-01|  2016-04-29|     New|0.001400000005960...| 2017-09-01|Hilux Revo 4x2 B|Toyota| null|     2016|     Fair| 12312|     562000|      383060|     B-Cab|Rear Wheel Drive ...|   Manual|   2|   2.4| Diesel|      null|\n",
            "|2017-09-01|  2014-05-12|     New|  0.2511000061035156| 2017-09-01|Hilux Vigo 4x2 D|Toyota| null|     2013|     Fair| 70534|     740000|      410880|     D-Cab|Rear Wheel Drive ...|   Manual|   4|   2.5| Diesel|      null|\n",
            "|2017-09-01|  2016-06-03|     New|   0.201299991607666| 2017-09-01|Hilux Revo 4x2 B|Toyota| null|     2016|     Fair| 53920|     635000|      357380|     B-Cab|Rear Wheel Drive ...|   Manual|   2|   2.8| Diesel|      null|\n",
            "+----------+------------+--------+--------------------+-----------+----------------+------+-----+---------+---------+------+-----------+------------+----------+--------------------+---------+----+------+-------+----------+\n",
            "only showing top 5 rows\n",
            "\n"
          ]
        }
      ]
    },
    {
      "cell_type": "code",
      "source": [
        "# Check value counts in 'modelGroup'\n",
        "df.groupBy('modelGroup').count().orderBy('count').show()"
      ],
      "metadata": {
        "colab": {
          "base_uri": "https://localhost:8080/"
        },
        "id": "1pOYdedQ9ke8",
        "outputId": "dd09f1e9-9015-4cbe-e1c8-c408208c188e"
      },
      "execution_count": 23,
      "outputs": [
        {
          "output_type": "stream",
          "name": "stdout",
          "text": [
            "+----------+-----+\n",
            "|modelGroup|count|\n",
            "+----------+-----+\n",
            "|      Hino|    2|\n",
            "|     Lexus|    5|\n",
            "|      Wish|    9|\n",
            "|    Innova|   58|\n",
            "|     PRIUS|   59|\n",
            "|     Other|   73|\n",
            "|       Van|   99|\n",
            "|      C-HR|  116|\n",
            "|    Sienta|  130|\n",
            "|    Avanza|  161|\n",
            "|     Camry|  248|\n",
            "|  Fortuner|  786|\n",
            "|     Altis| 1026|\n",
            "|     D-Cab| 2118|\n",
            "|     B-Cab| 3934|\n",
            "|      Vios| 4402|\n",
            "|     Yaris| 4673|\n",
            "|     C-Cab| 8336|\n",
            "+----------+-----+\n",
            "\n"
          ]
        }
      ]
    },
    {
      "cell_type": "code",
      "source": [
        "# Check value counts in 'wheel'\n",
        "df.groupBy('wheel').count().orderBy('count').show()"
      ],
      "metadata": {
        "colab": {
          "base_uri": "https://localhost:8080/"
        },
        "id": "h9jl_6ZT988g",
        "outputId": "98035ef0-ff84-456b-ef40-f047693cf5b7"
      },
      "execution_count": 24,
      "outputs": [
        {
          "output_type": "stream",
          "name": "stdout",
          "text": [
            "+--------------------+-----+\n",
            "|               wheel|count|\n",
            "+--------------------+-----+\n",
            "|4  Wheel Drive (4WD)| 1017|\n",
            "|Front Wheel Drive...|10706|\n",
            "|Rear Wheel Drive ...|14512|\n",
            "+--------------------+-----+\n",
            "\n"
          ]
        }
      ]
    },
    {
      "cell_type": "code",
      "source": [
        "# Extra values in 'wheel' only bracket\n",
        "df = df.withColumn(\n",
        "    'drive',\n",
        "    regexp_extract(col('wheel'), r\"\\(([^()]+)\\)$\", 1)\n",
        ")\n",
        "\n",
        "# Check value counts in 'drive'\n",
        "df.groupBy('drive').count().orderBy('count').show()"
      ],
      "metadata": {
        "colab": {
          "base_uri": "https://localhost:8080/"
        },
        "id": "TkNs3BEw9p9f",
        "outputId": "5b498f1e-fbd9-44b4-d8b3-01e35d39ddac"
      },
      "execution_count": 25,
      "outputs": [
        {
          "output_type": "stream",
          "name": "stdout",
          "text": [
            "+-----+-----+\n",
            "|drive|count|\n",
            "+-----+-----+\n",
            "|  4WD| 1017|\n",
            "|  FWD|10706|\n",
            "|  RWD|14512|\n",
            "+-----+-----+\n",
            "\n"
          ]
        }
      ]
    },
    {
      "cell_type": "code",
      "source": [
        "# Check value counts in 'gear'\n",
        "df.groupBy('gear').count().orderBy('count').show()"
      ],
      "metadata": {
        "colab": {
          "base_uri": "https://localhost:8080/"
        },
        "id": "bg4-SkheH57Q",
        "outputId": "195d05d5-184e-4a65-9188-1da7e0624372"
      },
      "execution_count": 26,
      "outputs": [
        {
          "output_type": "stream",
          "name": "stdout",
          "text": [
            "+---------+-----+\n",
            "|     gear|count|\n",
            "+---------+-----+\n",
            "|Automatic|12745|\n",
            "|   Manual|13490|\n",
            "+---------+-----+\n",
            "\n"
          ]
        }
      ]
    },
    {
      "cell_type": "code",
      "source": [
        "# Check value counts in 'door'\n",
        "df.groupBy('door').count().orderBy('count').show()"
      ],
      "metadata": {
        "colab": {
          "base_uri": "https://localhost:8080/"
        },
        "id": "HG6GzlScH9yu",
        "outputId": "bde0bc0d-1122-4b13-cf43-a259ebe7e66c"
      },
      "execution_count": 27,
      "outputs": [
        {
          "output_type": "stream",
          "name": "stdout",
          "text": [
            "+----+-----+\n",
            "|door|count|\n",
            "+----+-----+\n",
            "|   5| 4916|\n",
            "|   2| 7739|\n",
            "|   4|13580|\n",
            "+----+-----+\n",
            "\n"
          ]
        }
      ]
    },
    {
      "cell_type": "code",
      "source": [
        "# Check value counts in 'engine'\n",
        "df.groupBy('engine').count().orderBy('count').show()"
      ],
      "metadata": {
        "colab": {
          "base_uri": "https://localhost:8080/"
        },
        "id": "KIsJ-gzIICA2",
        "outputId": "26fc1c3d-6db1-4ea3-c31f-9d3cfeda54cf"
      },
      "execution_count": 28,
      "outputs": [
        {
          "output_type": "stream",
          "name": "stdout",
          "text": [
            "+------+-----+\n",
            "|engine|count|\n",
            "+------+-----+\n",
            "|   2.2|    1|\n",
            "|   3.5|    2|\n",
            "|   4.0|    2|\n",
            "|   1.9|    2|\n",
            "|   2.0|  213|\n",
            "|   3.0|  409|\n",
            "|   2.7|  435|\n",
            "|   1.6|  475|\n",
            "|   1.8|  727|\n",
            "|   2.8| 2037|\n",
            "|   2.5| 3708|\n",
            "|   1.2| 4209|\n",
            "|   1.5| 5179|\n",
            "|   2.4| 8836|\n",
            "+------+-----+\n",
            "\n"
          ]
        }
      ]
    },
    {
      "cell_type": "code",
      "source": [
        "# Check value counts in 'fuel'\n",
        "df.groupBy('fuel').count().orderBy('count').show()"
      ],
      "metadata": {
        "colab": {
          "base_uri": "https://localhost:8080/"
        },
        "id": "bUvsPP_KIDdw",
        "outputId": "68f8d0da-99d9-48e7-b461-efd071fd308c"
      },
      "execution_count": 29,
      "outputs": [
        {
          "output_type": "stream",
          "name": "stdout",
          "text": [
            "+-------+-----+\n",
            "|   fuel|count|\n",
            "+-------+-----+\n",
            "|    CNG|  188|\n",
            "|Benzene|11301|\n",
            "| Diesel|14746|\n",
            "+-------+-----+\n",
            "\n"
          ]
        }
      ]
    },
    {
      "cell_type": "code",
      "source": [
        "# Drop unused columns\n",
        "df = df.drop(\n",
        "    *['month', 'modelDescription', 'color', 'wheel']\n",
        ")\n",
        "\n",
        "# Show table\n",
        "df.show(5)"
      ],
      "metadata": {
        "colab": {
          "base_uri": "https://localhost:8080/"
        },
        "id": "-pBmB43YIO-A",
        "outputId": "f34ba1b1-0738-4b87-fa14-ad4114b1918e"
      },
      "execution_count": 30,
      "outputs": [
        {
          "output_type": "stream",
          "name": "stdout",
          "text": [
            "+------------+--------+--------------------+-----------+------+---------+---------+------+-----------+------------+----------+---------+----+------+-------+----------+-----+\n",
            "|contractDate|usedType|         downPercent|sellingDate| brand|buildyear|condition|    km|newCarPrice|sellingPrice|modelGroup|     gear|door|engine|   fuel|groupColor|drive|\n",
            "+------------+--------+--------------------+-----------+------+---------+---------+------+-----------+------------+----------+---------+----+------+-------+----------+-----+\n",
            "|  2013-03-04|     New|                 0.1| 2017-09-01|Toyota|     2013|     Fair|101814|     734000|      361660|     Yaris|Automatic|   5|   1.5|Benzene|      null|  FWD|\n",
            "|  2014-07-21|    Used|0.028900001049041748| 2017-09-01|Toyota|     2010|     Fair|260327|     669000|      251450|     C-Cab|   Manual|   2|   2.5| Diesel|      null|  RWD|\n",
            "|  2016-04-29|     New|0.001400000005960...| 2017-09-01|Toyota|     2016|     Fair| 12312|     562000|      383060|     B-Cab|   Manual|   2|   2.4| Diesel|      null|  RWD|\n",
            "|  2014-05-12|     New|  0.2511000061035156| 2017-09-01|Toyota|     2013|     Fair| 70534|     740000|      410880|     D-Cab|   Manual|   4|   2.5| Diesel|      null|  RWD|\n",
            "|  2016-06-03|     New|   0.201299991607666| 2017-09-01|Toyota|     2016|     Fair| 53920|     635000|      357380|     B-Cab|   Manual|   2|   2.8| Diesel|      null|  RWD|\n",
            "+------------+--------+--------------------+-----------+------+---------+---------+------+-----------+------------+----------+---------+----+------+-------+----------+-----+\n",
            "only showing top 5 rows\n",
            "\n"
          ]
        }
      ]
    },
    {
      "cell_type": "code",
      "source": [
        "# Checking null values\n",
        "df.select(\n",
        "    [count(when(isnull(col), col)).alias(col) for col in df.columns]\n",
        ").show()"
      ],
      "metadata": {
        "colab": {
          "base_uri": "https://localhost:8080/"
        },
        "id": "f0tYAdO9I6YE",
        "outputId": "daaca107-2488-4abb-d440-2cd6161e7645"
      },
      "execution_count": 31,
      "outputs": [
        {
          "output_type": "stream",
          "name": "stdout",
          "text": [
            "+------------+--------+-----------+-----------+-----+---------+---------+---+-----------+------------+----------+----+----+------+----+----------+-----+\n",
            "|contractDate|usedType|downPercent|sellingDate|brand|buildyear|condition| km|newCarPrice|sellingPrice|modelGroup|gear|door|engine|fuel|groupColor|drive|\n",
            "+------------+--------+-----------+-----------+-----+---------+---------+---+-----------+------------+----------+----+----+------+----+----------+-----+\n",
            "|           0|       0|          0|          0|    0|        0|        0|733|          0|           0|         0|   0|   0|     0|   0|     12928|    0|\n",
            "+------------+--------+-----------+-----------+-----+---------+---------+---+-----------+------------+----------+----+----+------+----+----------+-----+\n",
            "\n"
          ]
        }
      ]
    },
    {
      "cell_type": "code",
      "source": [
        "# Export\n",
        "df.toPandas().to_csv(\n",
        "    'cleanCarDate.csv',\n",
        "    index = False\n",
        ")"
      ],
      "metadata": {
        "id": "bWtrxS-t9E40"
      },
      "execution_count": 32,
      "outputs": []
    },
    {
      "cell_type": "code",
      "source": [
        "# Stop the session\n",
        "spark.stop()"
      ],
      "metadata": {
        "id": "s0dozvUtVXFd"
      },
      "execution_count": 33,
      "outputs": []
    }
  ]
}