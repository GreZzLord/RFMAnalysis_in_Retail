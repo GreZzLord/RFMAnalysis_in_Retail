{
  "nbformat": 4,
  "nbformat_minor": 0,
  "metadata": {
    "colab": {
      "name": "pipelineModel.ipynb",
      "provenance": [],
      "collapsed_sections": [],
      "mount_file_id": "19ulmnArXur9xizzZU3D9YVbdPXHPRt4K",
      "authorship_tag": "ABX9TyPjPxBSY/scCpHsLV+LpGOk",
      "include_colab_link": true
    },
    "kernelspec": {
      "name": "python3",
      "display_name": "Python 3"
    }
  },
  "cells": [
    {
      "cell_type": "markdown",
      "metadata": {
        "id": "view-in-github",
        "colab_type": "text"
      },
      "source": [
        "<a href=\"https://colab.research.google.com/github/naenumtou/statisticalModel/blob/main/pipelineModel.ipynb\" target=\"_parent\"><img src=\"https://colab.research.google.com/assets/colab-badge.svg\" alt=\"Open In Colab\"/></a>"
      ]
    },
    {
      "cell_type": "code",
      "metadata": {
        "colab": {
          "base_uri": "https://localhost:8080/"
        },
        "id": "vePQj78hWcd8",
        "outputId": "d373e416-75e6-42ec-a5ae-3d1378c4248d"
      },
      "source": [
        "# Import libraies\n",
        "import pandas as pd\n",
        "import numpy as np\n",
        "import pickle\n",
        "\n",
        "from sklearn.impute import SimpleImputer\n",
        "from sklearn.preprocessing import OneHotEncoder, MinMaxScaler, PolynomialFeatures\n",
        "from sklearn.compose import ColumnTransformer, make_column_selector\n",
        "from sklearn.pipeline import Pipeline\n",
        "from sklearn.linear_model import LinearRegression\n",
        "from sklearn.model_selection import cross_val_score\n",
        "\n",
        "# Change working directory\n",
        "%cd /content/drive/My Drive/Colab Notebooks/rvData"
      ],
      "execution_count": null,
      "outputs": [
        {
          "output_type": "stream",
          "text": [
            "/content/drive/My Drive/Colab Notebooks/rvData\n"
          ],
          "name": "stdout"
        }
      ]
    },
    {
      "cell_type": "code",
      "metadata": {
        "id": "ifz3CEhXW_B3"
      },
      "source": [
        "# Import data\n",
        "df = pd.read_parquet('rawData.parquet', engine = 'pyarrow')\n",
        "\n",
        "# Features and target\n",
        "X = df.drop(['_RV'], axis = 1)\n",
        "y = df['_RV']\n",
        "y = np.log(y)"
      ],
      "execution_count": null,
      "outputs": []
    },
    {
      "cell_type": "code",
      "metadata": {
        "id": "e_QMSV1kiS88",
        "colab": {
          "base_uri": "https://localhost:8080/"
        },
        "outputId": "e237a935-c72f-456d-ebb5-629f866a8365"
      },
      "source": [
        "# Pre-processing data\n",
        "numericTransformer = Pipeline(steps = [('Imputer', SimpleImputer(strategy = 'mean')),\n",
        "                                       ('MinMaxScaler', MinMaxScaler()),\n",
        "                                       ('PolynomialScaler', PolynomialFeatures(degree = 2, include_bias = False))])\n",
        "catsTransformer = Pipeline(steps = [('OneHotEncoder', OneHotEncoder(drop = 'first'))])\n",
        "\n",
        "preprocessor = ColumnTransformer(transformers = [('nums', numericTransformer, make_column_selector(dtype_include = np.number)),\n",
        "                                                 ('cats', catsTransformer, make_column_selector(dtype_include = object))])\n",
        "preprocessor"
      ],
      "execution_count": null,
      "outputs": [
        {
          "output_type": "execute_result",
          "data": {
            "text/plain": [
              "ColumnTransformer(n_jobs=None, remainder='drop', sparse_threshold=0.3,\n",
              "                  transformer_weights=None,\n",
              "                  transformers=[('nums',\n",
              "                                 Pipeline(memory=None,\n",
              "                                          steps=[('Imputer',\n",
              "                                                  SimpleImputer(add_indicator=False,\n",
              "                                                                copy=True,\n",
              "                                                                fill_value=None,\n",
              "                                                                missing_values=nan,\n",
              "                                                                strategy='mean',\n",
              "                                                                verbose=0)),\n",
              "                                                 ('MinMaxScaler',\n",
              "                                                  MinMaxScaler(copy=True,\n",
              "                                                               feature_range=(0,\n",
              "                                                                              1))),\n",
              "                                                 ('PolynomialScaler',\n",
              "                                                  Polynomi...\n",
              "                                 <sklearn.compose._column_transformer.make_column_selector object at 0x7f6c8e0a5780>),\n",
              "                                ('cats',\n",
              "                                 Pipeline(memory=None,\n",
              "                                          steps=[('OneHotEncoder',\n",
              "                                                  OneHotEncoder(categories='auto',\n",
              "                                                                drop='first',\n",
              "                                                                dtype=<class 'numpy.float64'>,\n",
              "                                                                handle_unknown='error',\n",
              "                                                                sparse=True))],\n",
              "                                          verbose=False),\n",
              "                                 <sklearn.compose._column_transformer.make_column_selector object at 0x7f6c8e09b0b8>)],\n",
              "                  verbose=False)"
            ]
          },
          "metadata": {
            "tags": []
          },
          "execution_count": 4
        }
      ]
    },
    {
      "cell_type": "code",
      "metadata": {
        "colab": {
          "base_uri": "https://localhost:8080/"
        },
        "id": "-XVeXAurYwxr",
        "outputId": "af2073c3-66a9-4329-9f63-3c76c8b331fe"
      },
      "source": [
        "# Model\n",
        "model = LinearRegression()\n",
        "\n",
        "#Model pipeline\n",
        "modelPipeline = Pipeline(steps = [('preprocessor', preprocessor),\n",
        "                                  ('model', model)])\n",
        "modelPipeline"
      ],
      "execution_count": null,
      "outputs": [
        {
          "output_type": "execute_result",
          "data": {
            "text/plain": [
              "Pipeline(memory=None,\n",
              "         steps=[('preprocessor',\n",
              "                 ColumnTransformer(n_jobs=None, remainder='drop',\n",
              "                                   sparse_threshold=0.3,\n",
              "                                   transformer_weights=None,\n",
              "                                   transformers=[('nums',\n",
              "                                                  Pipeline(memory=None,\n",
              "                                                           steps=[('Imputer',\n",
              "                                                                   SimpleImputer(add_indicator=False,\n",
              "                                                                                 copy=True,\n",
              "                                                                                 fill_value=None,\n",
              "                                                                                 missing_values=nan,\n",
              "                                                                                 strategy='mean',\n",
              "                                                                                 verbose=0)),\n",
              "                                                                  ('MinMaxScaler',\n",
              "                                                                   MinMaxScaler(copy=True,\n",
              "                                                                                featur...\n",
              "                                                           steps=[('OneHotEncoder',\n",
              "                                                                   OneHotEncoder(categories='auto',\n",
              "                                                                                 drop='first',\n",
              "                                                                                 dtype=<class 'numpy.float64'>,\n",
              "                                                                                 handle_unknown='error',\n",
              "                                                                                 sparse=True))],\n",
              "                                                           verbose=False),\n",
              "                                                  <sklearn.compose._column_transformer.make_column_selector object at 0x7f6c8e09b0b8>)],\n",
              "                                   verbose=False)),\n",
              "                ('model',\n",
              "                 LinearRegression(copy_X=True, fit_intercept=True, n_jobs=None,\n",
              "                                  normalize=False))],\n",
              "         verbose=False)"
            ]
          },
          "metadata": {
            "tags": []
          },
          "execution_count": 5
        }
      ]
    },
    {
      "cell_type": "code",
      "metadata": {
        "colab": {
          "base_uri": "https://localhost:8080/"
        },
        "id": "itF9l9ID7xW3",
        "outputId": "0b120f1e-3500-42f8-a717-323a4afd32da"
      },
      "source": [
        "# Model development\n",
        "modelScore = cross_val_score(modelPipeline, X, y, cv = 10)\n",
        "print(f'Accuracy: {modelScore}')\n",
        "print(f'Accuracy average: {modelScore.mean()}')"
      ],
      "execution_count": null,
      "outputs": [
        {
          "output_type": "stream",
          "text": [
            "Accuracy: [0.71165213 0.70554862 0.78076244 0.76061476 0.79887437 0.78799148\n",
            " 0.79665663 0.61820085 0.70419667 0.6462264 ]\n",
            "Accuracy average: 0.731072434817978\n"
          ],
          "name": "stdout"
        }
      ]
    }
  ]
}